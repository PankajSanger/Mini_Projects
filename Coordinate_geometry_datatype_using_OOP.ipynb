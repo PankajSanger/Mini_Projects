{
  "nbformat": 4,
  "nbformat_minor": 0,
  "metadata": {
    "colab": {
      "provenance": [],
      "authorship_tag": "ABX9TyOH7u08Ve23MymXokkA0ZZy",
      "include_colab_link": true
    },
    "kernelspec": {
      "name": "python3",
      "display_name": "Python 3"
    },
    "language_info": {
      "name": "python"
    }
  },
  "cells": [
    {
      "cell_type": "markdown",
      "metadata": {
        "id": "view-in-github",
        "colab_type": "text"
      },
      "source": [
        "<a href=\"https://colab.research.google.com/github/PankajSanger/Mini_Projects/blob/main/Coordinate_geometry_datatype_using_OOP.ipynb\" target=\"_parent\"><img src=\"https://colab.research.google.com/assets/colab-badge.svg\" alt=\"Open In Colab\"/></a>"
      ]
    },
    {
      "cell_type": "markdown",
      "source": [
        "Write OOP classes to handle the following scenarios:\n",
        "\n",
        "\n",
        "*   A user can create and view 2D coordinates\n",
        "*   A user can find out the distance between two coordinates\n",
        "\n",
        "*   A user can find the distance of a coordinate from origin\n",
        "*   A user can check if a point lies on a given line\n",
        "\n",
        "*   A user can find the distance between a given 2D point and a given line\n",
        "\n",
        "\n",
        "\n",
        "\n",
        "\n"
      ],
      "metadata": {
        "id": "-iXaXPyMGNWI"
      }
    },
    {
      "cell_type": "code",
      "source": [
        "import math"
      ],
      "metadata": {
        "id": "V5Yfwk3sMXfh"
      },
      "execution_count": 8,
      "outputs": []
    },
    {
      "cell_type": "code",
      "execution_count": 28,
      "metadata": {
        "id": "z1NLqXdIF7E-"
      },
      "outputs": [],
      "source": [
        "class Point:\n",
        "\n",
        "  def __init__(self,x,y):\n",
        "    self.x_cod = x\n",
        "    self.y_cod = y\n",
        "\n",
        "  def __str__(self):\n",
        "    return f\"<{self.x_cod},{self.y_cod}>\"\n",
        "\n",
        "  def distance(self,other):\n",
        "    return math.sqrt((other.x_cod - self.x_cod)**2 + (other.y_cod - self.y_cod)**2)\n",
        "\n",
        "  def origin(self):\n",
        "    return self.distance(Point(0,0))\n",
        "\n",
        ""
      ]
    },
    {
      "cell_type": "code",
      "source": [
        "class Line:\n",
        "\n",
        "  def __init__(self,a,b,c):\n",
        "    self.a = a\n",
        "    self.b = b\n",
        "    self.c = c\n",
        "\n",
        "  def __str__(self):\n",
        "    return f\"{self.a}x + {self.b}y + {self.c} = 0\"\n",
        "\n",
        "  def point_on_line(self,Point):\n",
        "    if ((self.a*Point.x_cod) + (self.b*Point.y_cod) + self.c) == 0 :\n",
        "      return \"Point lies on the line\"\n",
        "    else:\n",
        "      return \"Point does not lies on the line\"\n",
        "\n",
        "  def distance_line_point(self,Point):\n",
        "    numer = ((self.a*Point.x_cod) + (self.b*Point.y_cod) + self.c)\n",
        "    denom = math.sqrt((self.a)**2 + (self.b)**2)\n",
        "    final = abs(numer/denom)\n",
        "    return final"
      ],
      "metadata": {
        "id": "VD_AV2PyT6Ek"
      },
      "execution_count": 39,
      "outputs": []
    },
    {
      "cell_type": "code",
      "source": [
        "L2 = Line(2,3,2)\n",
        "P = Point(2,-2)\n",
        "\n",
        "print(L2)\n",
        "print(P)\n",
        "print(L2.point_on_line(P))\n",
        "print(L2.distance_line_point(P))"
      ],
      "metadata": {
        "colab": {
          "base_uri": "https://localhost:8080/"
        },
        "id": "EPX2-Dw4WOM5",
        "outputId": "432c4ee6-73a2-447e-e304-920e2fde36b1"
      },
      "execution_count": 46,
      "outputs": [
        {
          "output_type": "stream",
          "name": "stdout",
          "text": [
            "2x + 3y + 2 = 0\n",
            "<2,-2>\n",
            "Point lies on the line\n",
            "0.0\n"
          ]
        }
      ]
    },
    {
      "cell_type": "code",
      "source": [
        "L1 = Line(2,3,1)\n",
        "print(L1)"
      ],
      "metadata": {
        "colab": {
          "base_uri": "https://localhost:8080/"
        },
        "id": "LvS-RkHsUufg",
        "outputId": "c84e0068-969d-4f85-de10-e2cc31e915f1"
      },
      "execution_count": 34,
      "outputs": [
        {
          "output_type": "stream",
          "name": "stdout",
          "text": [
            "2x + 3y + 1 = 0\n"
          ]
        }
      ]
    },
    {
      "cell_type": "code",
      "source": [
        "P4 = Point(2,2)\n",
        "\n",
        "P4.origin()"
      ],
      "metadata": {
        "colab": {
          "base_uri": "https://localhost:8080/"
        },
        "id": "SMGdvcoVLyBh",
        "outputId": "70b68198-e749-4218-f3a1-4ac5e00324de"
      },
      "execution_count": 29,
      "outputs": [
        {
          "output_type": "execute_result",
          "data": {
            "text/plain": [
              "2.8284271247461903"
            ]
          },
          "metadata": {},
          "execution_count": 29
        }
      ]
    },
    {
      "cell_type": "code",
      "source": [
        "P1 = Point(1,1)\n",
        "print(P1)"
      ],
      "metadata": {
        "colab": {
          "base_uri": "https://localhost:8080/"
        },
        "id": "7AdPqkokJmfb",
        "outputId": "f0ba3edb-f540-4152-89a5-67ef215a0b27"
      },
      "execution_count": 10,
      "outputs": [
        {
          "output_type": "stream",
          "name": "stdout",
          "text": [
            "<1,1>\n"
          ]
        }
      ]
    },
    {
      "cell_type": "code",
      "source": [
        "P2 = Point(1,1)\n",
        "P3 = Point(3,1)\n",
        "\n",
        "P2.distance(P3)"
      ],
      "metadata": {
        "colab": {
          "base_uri": "https://localhost:8080/"
        },
        "id": "zCVmoIY_Jtec",
        "outputId": "f434dc0a-eb69-4746-833c-069739c94f55"
      },
      "execution_count": 20,
      "outputs": [
        {
          "output_type": "execute_result",
          "data": {
            "text/plain": [
              "2.0"
            ]
          },
          "metadata": {},
          "execution_count": 20
        }
      ]
    },
    {
      "cell_type": "code",
      "source": [],
      "metadata": {
        "id": "hmvyKZ4JNqWL"
      },
      "execution_count": null,
      "outputs": []
    }
  ]
}