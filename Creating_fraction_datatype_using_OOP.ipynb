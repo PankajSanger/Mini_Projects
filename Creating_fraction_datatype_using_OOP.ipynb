{
  "nbformat": 4,
  "nbformat_minor": 0,
  "metadata": {
    "colab": {
      "provenance": [],
      "authorship_tag": "ABX9TyPH62YgdHIJSTLHysQlbgCd",
      "include_colab_link": true
    },
    "kernelspec": {
      "name": "python3",
      "display_name": "Python 3"
    },
    "language_info": {
      "name": "python"
    }
  },
  "cells": [
    {
      "cell_type": "markdown",
      "metadata": {
        "id": "view-in-github",
        "colab_type": "text"
      },
      "source": [
        "<a href=\"https://colab.research.google.com/github/PankajSanger/Mini_Projects/blob/main/Creating_fraction_datatype_using_OOP.ipynb\" target=\"_parent\"><img src=\"https://colab.research.google.com/assets/colab-badge.svg\" alt=\"Open In Colab\"/></a>"
      ]
    },
    {
      "cell_type": "code",
      "execution_count": 12,
      "metadata": {
        "id": "kt4l0RImETLX"
      },
      "outputs": [],
      "source": [
        "class Fraction:\n",
        "\n",
        "  def __init__(self,x,y):\n",
        "    self.num = x\n",
        "    self.den = y\n",
        "\n",
        "  def __str__(self):\n",
        "    return \"{}/{}\".format(self.num,self.den)\n",
        "\n",
        "# Addition\n",
        "  def __add__(self,other):\n",
        "    new_num = (self.num*other.den + other.num*self.den)\n",
        "    new_den = (self.den*other.den)\n",
        "    return \"{}/{}\".format(new_num,new_den)\n",
        "\n",
        "# Subtraction\n",
        "  def __sub__(self,other):\n",
        "    new_num = (self.num*other.den - other.num*self.den)\n",
        "    new_den = (self.den*other.den)\n",
        "    return \"{}/{}\".format(new_num,new_den)\n",
        "\n",
        "# Multiplication\n",
        "  def __mul__(self,other):\n",
        "    new_num = (self.num*other.num)\n",
        "    new_den = (self.den*other.den)\n",
        "    return \"{}/{}\".format(new_num,new_den)\n",
        "\n",
        "# Division\n",
        "  def __truediv__(self,other):\n",
        "    new_num = (self.num*other.den)\n",
        "    new_den = (self.den*other.num)\n",
        "    return \"{}/{}\".format(new_num,new_den)"
      ]
    },
    {
      "cell_type": "code",
      "source": [
        "f1 = Fraction(2,5)\n",
        "print(f1)"
      ],
      "metadata": {
        "colab": {
          "base_uri": "https://localhost:8080/"
        },
        "id": "ScERqxl7FH-6",
        "outputId": "fc13c588-898f-45bc-b381-78234ec1823a"
      },
      "execution_count": 13,
      "outputs": [
        {
          "output_type": "stream",
          "name": "stdout",
          "text": [
            "2/5\n"
          ]
        }
      ]
    },
    {
      "cell_type": "code",
      "source": [
        "f2 = Fraction(2,5)\n",
        "f3 = Fraction(3,4)\n",
        "print(f2 + f3)"
      ],
      "metadata": {
        "colab": {
          "base_uri": "https://localhost:8080/"
        },
        "id": "AOWgO-PJFN3h",
        "outputId": "caadbe5e-4ebb-4525-feab-1ac1d22eded3"
      },
      "execution_count": 14,
      "outputs": [
        {
          "output_type": "stream",
          "name": "stdout",
          "text": [
            "23/20\n"
          ]
        }
      ]
    },
    {
      "cell_type": "code",
      "source": [
        "f4 = Fraction(2,5)\n",
        "f5 = Fraction(3,4)\n",
        "print(f4 - f5)"
      ],
      "metadata": {
        "colab": {
          "base_uri": "https://localhost:8080/"
        },
        "id": "DofnTZ-wEm7B",
        "outputId": "47255dd8-73f7-4d75-ef65-6a435dd5c85f"
      },
      "execution_count": 15,
      "outputs": [
        {
          "output_type": "stream",
          "name": "stdout",
          "text": [
            "-7/20\n"
          ]
        }
      ]
    },
    {
      "cell_type": "code",
      "source": [
        "f6 = Fraction(2,5)\n",
        "f7 = Fraction(3,4)\n",
        "print(f6 * f7)"
      ],
      "metadata": {
        "colab": {
          "base_uri": "https://localhost:8080/"
        },
        "id": "g7QH7JpKEobR",
        "outputId": "3f310f7c-0287-4a1b-ad3e-50cff188add2"
      },
      "execution_count": 16,
      "outputs": [
        {
          "output_type": "stream",
          "name": "stdout",
          "text": [
            "6/20\n"
          ]
        }
      ]
    },
    {
      "cell_type": "code",
      "source": [
        "f8 = Fraction(2,5)\n",
        "f9 = Fraction(3,4)\n",
        "print(f8 / f9)"
      ],
      "metadata": {
        "colab": {
          "base_uri": "https://localhost:8080/"
        },
        "id": "mqU5-vaXEqBp",
        "outputId": "d99ad3ec-2b15-4be5-bed6-552a6af4bc60"
      },
      "execution_count": 17,
      "outputs": [
        {
          "output_type": "stream",
          "name": "stdout",
          "text": [
            "8/15\n"
          ]
        }
      ]
    },
    {
      "cell_type": "code",
      "source": [],
      "metadata": {
        "id": "WR31L_QUFZFb"
      },
      "execution_count": null,
      "outputs": []
    }
  ]
}